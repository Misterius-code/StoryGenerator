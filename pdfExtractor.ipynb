{
 "cells": [
  {
   "cell_type": "code",
   "execution_count": 18,
   "id": "c244e286",
   "metadata": {},
   "outputs": [],
   "source": [
    "import pdfplumber\n",
    "import os\n",
    "from alive_progress import alive_bar"
   ]
  },
  {
   "cell_type": "code",
   "execution_count": 11,
   "id": "23a32bde",
   "metadata": {},
   "outputs": [],
   "source": [
    "    startOfBook= ['Chapter', 'Prologue']"
   ]
  },
  {
   "cell_type": "code",
   "execution_count": 12,
   "id": "4111ace6",
   "metadata": {},
   "outputs": [],
   "source": [
    "    allbooks = os.listdir(\"..\\\\resources\\\\books\\\\fantasy\\\\pdf\\\\100k\")"
   ]
  },
  {
   "cell_type": "code",
   "execution_count": 13,
   "id": "de70c51b",
   "metadata": {},
   "outputs": [],
   "source": [
    "    allbooks.remove('desktop.ini')"
   ]
  },
  {
   "cell_type": "code",
   "execution_count": 19,
   "id": "e1e31bf9",
   "metadata": {},
   "outputs": [
    {
     "name": "stdout",
     "output_type": "stream",
     "text": [
      "Clean Version Of brian-s-pratts-worlds-of-fantasy-box-set.pdf Already Exist\n",
      "Clean Version Of city-of-blaze.pdf Already Exist\n",
      "Clean Version Of cobweb-bride.pdf Already Exist\n",
      "Clean Version Of demon-lord.pdf Already Exist\n",
      "Clean Version Of feral-magic-an-urban-fantasy-romance-thriller.pdf Already Exist\n",
      "Clean Version Of girls-of-dirt.pdf Already Exist\n",
      "Clean Version Of knights-the-eye-of-divinity.pdf Already Exist\n",
      "Clean Version Of lost-city.pdf Already Exist\n",
      "Clean Version Of the-emperors-edge.pdf Already Exist\n",
      "the-guardians-book-one-of-the-restoration-series.pdf\n",
      "on 0: Name:the-guardians-book-one-of-the-restoration-series.pdf Number of Pages: 199\n",
      "on 2: YES\n",
      "on 2: 552\n",
      "on 199: Book Added\n",
      "|████████████████████████████████████████| 199/199 [100%] in 16.8s (11.86/s)\n",
      "the-unsuspecting-mage-the-morcyth-saga-book-one.pdf\n",
      "on 0: Name:the-unsuspecting-mage-the-morcyth-saga-book-one.pdf Number of Pages: 277\n",
      "on 2: YES\n",
      "on 2: 329\n",
      "on 277: Book Added\n",
      "|████████████████████████████████████████| 277/277 [100%] in 21.9s (12.64/s)\n",
      "the-weeping-lore.pdf\n",
      "on 0: Name:the-weeping-lore.pdf Number of Pages: 481\n",
      "on 2: YES\n",
      "on 2: 297\n",
      "on 481: Book Added\n",
      "|████████████████████████████████████████| 481/481 [100%] in 18.9s (25.39/s)\n",
      "warrior-mage-chains-of-honor-book-1.pdf\n",
      "on 0: Name:warrior-mage-chains-of-honor-book-1.pdf Number of Pages: 182\n",
      "on 2: YES\n",
      "on 2: 530\n",
      "on 182: Book Added\n",
      "|████████████████████████████████████████| 182/182 [100%] in 15.7s (11.58/s)\n",
      "witchs-bell-book-one.pdf\n",
      "on 0: Name:witchs-bell-book-one.pdf Number of Pages: 172\n",
      "on 1: YES\n",
      "on 1: 598\n",
      "on 172: Book Added\n",
      "|████████████████████████████████████████| 172/172 [100%] in 15.9s (10.82/s)\n",
      "wyvern.pdf\n",
      "on 0: Name:wyvern.pdf Number of Pages: 220\n",
      "on 6: YES\n",
      "on 6: 543\n",
      "on 220: Book Added\n",
      "|████████████████████████████████████████| 220/220 [100%] in 17.6s (12.52/s)\n"
     ]
    }
   ],
   "source": [
    "    for pdfBooks in allbooks:\n",
    "        file_exists = os.path.exists(f'..\\\\resources\\\\books\\\\Fantasy\\\\txt\\\\100k\\\\{pdfBooks.replace(\"pdf\",\"txt\")}')\n",
    "        if file_exists:\n",
    "            print(f\"Clean Version Of {pdfBooks} Already Exist\")\n",
    "        else:\n",
    "            print(pdfBooks)\n",
    "            startofBookFound = False\n",
    "            pdf = pdfplumber.open(f'..\\\\resources\\\\books\\\\fantasy\\\\pdf\\\\100k\\\\{pdfBooks}')\n",
    "            # total_pages= len(pdf.pages)\n",
    "            all_text=\"\"\n",
    "            with alive_bar(len(pdf.pages)) as bar:\n",
    "              print(\"Name:{0} Number of Pages: {1}\".format(pdfBooks,len(pdf.pages) ))\n",
    "              for pdf_page in pdf.pages:\n",
    "                   single_page_text = pdf_page.extract_text()\n",
    "                   #if startOfBook in single_page_text:\n",
    "                   if (single_page_text.find(startOfBook[0]) >=0 or single_page_text.find(startOfBook[1]) >=0) and len(single_page_text.split()) >=150 and startofBookFound == False:\n",
    "                       all_text=\"\"\n",
    "                       startofBookFound=True\n",
    "                       print(\"YES\")\n",
    "                       print( len(single_page_text.split()))\n",
    "\n",
    "                   all_text = all_text + '\\n' + single_page_text\n",
    "                   bar()\n",
    "                   #print(\"lel\")\n",
    "              print(\"Book Added\")\n",
    "              with open(f'..\\\\resources\\\\books\\\\fantasy\\\\txt\\\\100k\\\\{pdfBooks.replace(\"pdf\",\"txt\")}', 'w' ,encoding=\"utf-8\") as text_file:\n",
    "                print(f\"{all_text}\", file=text_file)"
   ]
  },
  {
   "cell_type": "code",
   "execution_count": null,
   "id": "6f8d2f69",
   "metadata": {},
   "outputs": [],
   "source": []
  }
 ],
 "metadata": {
  "kernelspec": {
   "display_name": "Python 3 (ipykernel)",
   "language": "python",
   "name": "python3"
  },
  "language_info": {
   "codemirror_mode": {
    "name": "ipython",
    "version": 3
   },
   "file_extension": ".py",
   "mimetype": "text/x-python",
   "name": "python",
   "nbconvert_exporter": "python",
   "pygments_lexer": "ipython3",
   "version": "3.9.7"
  }
 },
 "nbformat": 4,
 "nbformat_minor": 5
}
