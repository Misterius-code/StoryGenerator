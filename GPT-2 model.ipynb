{
 "cells": [
  {
   "cell_type": "code",
   "execution_count": 16,
   "id": "ffce0086",
   "metadata": {},
   "outputs": [],
   "source": [
    "import torch\n",
    "import tensorflow\n",
    "import keras\n",
    "from transformers  import GPT2LMHeadModel , GPT2Tokenizer\n"
   ]
  },
  {
   "cell_type": "code",
   "execution_count": 8,
   "id": "d849f078",
   "metadata": {},
   "outputs": [],
   "source": [
    "tokenizer = GPT2Tokenizer.from_pretrained('gpt2-medium')"
   ]
  },
  {
   "cell_type": "code",
   "execution_count": 9,
   "id": "97822a4f",
   "metadata": {},
   "outputs": [],
   "source": [
    "model = GPT2LMHeadModel.from_pretrained('gpt2-medium' ,\n",
    "    pad_token_id = tokenizer.eos_token_id)"
   ]
  },
  {
   "cell_type": "code",
   "execution_count": 10,
   "id": "67620ac0",
   "metadata": {},
   "outputs": [],
   "source": [
    " sample=\"Once Upon a Time there was a knight in castle.His name was Geralt. His takes was to capture a dragon.\""
   ]
  },
  {
   "cell_type": "code",
   "execution_count": 12,
   "id": "cd5f85b8",
   "metadata": {},
   "outputs": [],
   "source": [
    "    input_ids = tokenizer.encode(sample,return_tensors='pt')"
   ]
  },
  {
   "cell_type": "code",
   "execution_count": 13,
   "id": "4c9eea70",
   "metadata": {},
   "outputs": [],
   "source": [
    "output = model.generate(input_ids,\n",
    "                            max_length=10000,\n",
    "                            num_beams=5,\n",
    "                            no_repeat_ngram_size=2,\n",
    "                            early_stopping=True)"
   ]
  },
  {
   "cell_type": "code",
   "execution_count": 14,
   "id": "9eefcf7c",
   "metadata": {},
   "outputs": [
    {
     "name": "stdout",
     "output_type": "stream",
     "text": [
      "Once Upon a Time there was a knight in castle.His name was Geralt. His takes was to capture a dragon. The dragon was the only thing that could save the world from the evil that was plaguing it. He had to find the dragon and bring it back to the castle, but he had no idea what he was going to do with it, or how he would get there.So he went out into the woods and found a cave. There he found an old man who told him that there were dragons in the forest, and that he should go and find them. So he did.He found the dragons and brought them back. But he didn't know where they came from or what they looked like. And he wasn't sure if he wanted to kill them or let them live, so he decided to leave them to their fate.But then he heard a strange noise. It sounded like someone was crying.And he looked up and saw a man with a sword in his hand.The man said, \"Geralt, what are you doing here? You're not supposed to be here. You should be with your friends.\"The knight was shocked. \"What do you mean? I'm not with my friends. I don't even know who they are.\"So the knight told the man to get out of the cave and leave him alone. Then he took the sword and went back inside.When he came back out, he saw that his friends were gone. They had been taken away by someone who looked just like him.\"What the hell is going on here?\" he asked himself.Then he realized that it was just a dream.\n"
     ]
    }
   ],
   "source": [
    "    print(tokenizer.decode(output[0], skip_special_tokens = True))\n"
   ]
  },
  {
   "cell_type": "code",
   "execution_count": 17,
   "id": "c8376dd6",
   "metadata": {},
   "outputs": [
    {
     "name": "stdout",
     "output_type": "stream",
     "text": [
      "Finish\n"
     ]
    }
   ],
   "source": [
    "    print(\"Finish\")\n"
   ]
  },
  {
   "cell_type": "code",
   "execution_count": null,
   "id": "0922fed3",
   "metadata": {},
   "outputs": [],
   "source": []
  }
 ],
 "metadata": {
  "kernelspec": {
   "display_name": "Python 3 (ipykernel)",
   "language": "python",
   "name": "python3"
  },
  "language_info": {
   "codemirror_mode": {
    "name": "ipython",
    "version": 3
   },
   "file_extension": ".py",
   "mimetype": "text/x-python",
   "name": "python",
   "nbconvert_exporter": "python",
   "pygments_lexer": "ipython3",
   "version": "3.9.7"
  }
 },
 "nbformat": 4,
 "nbformat_minor": 5
}
